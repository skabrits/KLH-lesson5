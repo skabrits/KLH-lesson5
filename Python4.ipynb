{
 "cells": [
  {
   "cell_type": "markdown",
   "id": "85553461",
   "metadata": {},
   "source": [
    "# Ранбук по теме Python p4\n",
    "\n",
    "### Дисклеймер\n",
    "\n",
    "Фреймворк &ndash; это такая большая библиотека, которая не только имеет набор дополнительных функций, но и указывает вам определённую структуру вашего кода. То есть, сравнивая с д/з по английскому, библиотека &ndash; это новые выученные вами слова, из которых вы составляете предложения по своему усмотрению, а фреймворк &ndash; задание \"заполните пропуски\" в уже готовых предложениях.\n",
    "\n",
    "А между тем, чтобы вызвать из python код на bash и захватить результат, есть удобная библиотека:"
   ]
  },
  {
   "cell_type": "code",
   "execution_count": null,
   "id": "6cc52ada",
   "metadata": {},
   "outputs": [],
   "source": [
    "import subprocess\n",
    "\n",
    "result = subprocess.run([\"wsl\", \"ls\", \"-la\"], capture_output=True).stdout.decode(\"utf-8\")\n",
    "# перед ls нужно добавить wsl, так как на windows python запускает cmd, а нам нужно выполнять команду не из-под cmd,\n",
    "# а из-под линукса, параметр capture_output позволяет передать результат из bash в python, вместо stdout можно\n",
    "# выбрать stderror (поток в который выводятся ошибки), а decode нужна чтобы перевести пришедшие байты в строку.\n",
    "print(result)"
   ]
  },
  {
   "cell_type": "markdown",
   "id": "ea3c6609",
   "metadata": {},
   "source": [
    "Ну и раз уж такое дело, неплохо бы научится получать из python переменные окружения."
   ]
  },
  {
   "cell_type": "code",
   "execution_count": null,
   "id": "70d32564",
   "metadata": {},
   "outputs": [],
   "source": [
    "import os\n",
    "\n",
    "p = os.getenv('PATH')  #  получаем переменную окружения path\n",
    "print(p)"
   ]
  },
  {
   "cell_type": "markdown",
   "id": "8d0f259b",
   "metadata": {},
   "source": [
    "## Flask"
   ]
  },
  {
   "cell_type": "markdown",
   "id": "1f9259bf",
   "metadata": {},
   "source": [
    "### Лирическое отступление venv\n",
    "\n",
    "Перед установкой библиотек (а без них нам тут явно не обойтись) стоит поговорить о том, что называют virtual environment \\[venv\\]. Когда вы устанавливаете библиотеку модулем `pip`, вы устанавливаете её на системный интерпретатор python. Это крайне неудобно, так как этим интерпретатором пользуются все ваши приложения на компьютере, нуждающиеся в питоне. Нередко разным приложениям для работы нужна разная версия библиотек. Нетрудно видеть, что пользуясь одним лишь глобальным интерпретатором эту проблему не разрешить. Тут и вступает в игру venv. Он создаёт изолированное окружение, в которое можно устанавливать библиотеки под конкретное приложение под которое этот venv создан. Но вначале модуль venv нужно установить. Это делается спомощью команды `apt install`."
   ]
  },
  {
   "cell_type": "code",
   "execution_count": null,
   "id": "fdf17ce9",
   "metadata": {},
   "outputs": [],
   "source": [
    "%%bash\n",
    "# эти команды лучше вводить из консоли, так как в них может потребоваться пароль\n",
    "sudo apt update                   # обновляет список доступных системных библиотек linux\n",
    "sudo apt install -y python3-venv  # скачивает модуль для python, -y означает autoyes: отвечать yes на любые\n",
    "                                  #                                       вопросы, появляющиеся во время установки"
   ]
  },
  {
   "cell_type": "code",
   "execution_count": null,
   "id": "8f2a03b1",
   "metadata": {},
   "outputs": [],
   "source": [
    "%%bash\n",
    "# Код может выполняться пару минут\n",
    "\n",
    "python3 -m venv .venv   # использует модуль питона (-m) под названием venv, который создаёт виртуальное окружение,\n",
    "                        #                                              файлы которого будут храниться в папке .venv\n",
    "                       \n",
    ". .venv/bin/activate    # активирует в виртуальное окружение, теперь все действия будут происходить в нём\n",
    "\n",
    "# Тут можно делать что-то с питоном\n",
    "\n",
    "deactivate  # деактивирует виртуальное окружение, теперь все действия будут происходить на глобальном\n",
    "                        #                                                                            интерпретаторе\n",
    "                         \n",
    "# На windows в PowerShell .venv\\Scripts\\activate.ps1\n",
    "\n",
    "ls -a\n",
    "echo \"____________\"\n",
    "ls .venv/bin"
   ]
  },
  {
   "cell_type": "markdown",
   "id": "9d3d0da0",
   "metadata": {},
   "source": [
    "### Api controller\n",
    "\n",
    "Прежде чем использовать Flask (фреймворк для реализации веб сервера на python), необходимо его установить. Как и другие библиотеки python он устанавливается на компьютер спомощью модуля `pip`."
   ]
  },
  {
   "cell_type": "code",
   "execution_count": null,
   "id": "f8ab8cfa",
   "metadata": {
    "scrolled": true
   },
   "outputs": [],
   "source": [
    "import sys \n",
    "!{sys.executable} -m pip install --user --force-reinstall Flask>= 2.2.2\n",
    "# {sys.executable} выдаёт путь по которому лежит python"
   ]
  },
  {
   "cell_type": "markdown",
   "id": "78acc6be",
   "metadata": {},
   "source": [
    "Для простоты мы не будем использовать созданный нами venv, так как с ним нам будет сложно продолжать работу с этим jupyter notebook, но в реальной задаче, конечно, мы бы делали это из-под venv.\n",
    "\n",
    "К слову, \"!\" означает, что это bash команда, а \">= 2.2.2\" &ndash; требование к версии Flask. Флаг \"--user\" устанавливает библиотеку только для текущего пользователя, а флаг \"--force-reinstall\" нужен, чтобы переустановить библиотеку с нужной нам версией, если вдруг установлена старая версия библиотеки.\n",
    "\n",
    "**Перезагрузите интерпретатор после установки библиотеки!** Выберите в верхнем меню jupyter notebook Kernel &rightarrow; Restart.\n",
    "\n",
    "Для воспроизводимости результатов на других компьютерах, обычно делают так, записывая все необходимые библиотеки с версиями в файл requirements.txt:"
   ]
  },
  {
   "cell_type": "code",
   "execution_count": null,
   "id": "7b64268b",
   "metadata": {},
   "outputs": [],
   "source": [
    "import sys \n",
    "!{sys.executable} -m pip freeze > requirements.txt"
   ]
  },
  {
   "cell_type": "markdown",
   "id": "ae88b471",
   "metadata": {},
   "source": [
    "И на другом компьютере:"
   ]
  },
  {
   "cell_type": "code",
   "execution_count": null,
   "id": "9dec6921",
   "metadata": {},
   "outputs": [],
   "source": [
    "import sys \n",
    "!{sys.executable} -m pip install -r requirements.txt"
   ]
  },
  {
   "cell_type": "markdown",
   "id": "0014bf01",
   "metadata": {},
   "source": [
    "Теперь мы можем перейти к созланию первого api:"
   ]
  },
  {
   "cell_type": "code",
   "execution_count": null,
   "id": "23a5290b",
   "metadata": {
    "scrolled": true
   },
   "outputs": [],
   "source": [
    "from flask import Flask\n",
    "\n",
    "app = Flask(__name__)  # создали веб-приложение, указав __name__, чтобы Flask умел находить файлы, лежащие \n",
    "                       #                                                                         по некоторым путям\n",
    "\n",
    "@app.route(\"/\")            # по корневому пути вызывать функцию index\n",
    "def index():\n",
    "    return \"Hello World!\""
   ]
  },
  {
   "cell_type": "markdown",
   "id": "f2eee14a",
   "metadata": {},
   "source": [
    "Запомните код в следующей ячейке &ndash; он запускает веб-сервер и его же надо останавливать, когда в вебсервер вносятся изменения."
   ]
  },
  {
   "cell_type": "code",
   "execution_count": null,
   "id": "3f05ff3e",
   "metadata": {},
   "outputs": [],
   "source": [
    "app.run(host=\"0.0.0.0\", port=5000)  # запускает сервер для всех в локальной сети по ip адресу машины (которое\n",
    "                                     #                                           ставится на место доменного имени)\n",
    "                                     #                                                                на порту 5000"
   ]
  },
  {
   "cell_type": "markdown",
   "id": "e13ae573",
   "metadata": {},
   "source": [
    "Узнать свой ip можно так:"
   ]
  },
  {
   "cell_type": "code",
   "execution_count": null,
   "id": "445fed95",
   "metadata": {
    "scrolled": true
   },
   "outputs": [],
   "source": [
    "import socket\n",
    "socket.gethostbyname(socket.gethostname())"
   ]
  },
  {
   "cell_type": "markdown",
   "id": "8ca4d94b",
   "metadata": {},
   "source": [
    "Теперь сайт доступен по адресу http://\\<ip address>:\\<port number>/ в частности по адресу http://127.0.0.1:5000/.\n",
    "    \n",
    "Вместо 127.0.0.1 можно поставить localhost &ndash; этот домен соответствует вышеприведённому ip."
   ]
  },
  {
   "cell_type": "markdown",
   "id": "cb3d7d0f",
   "metadata": {},
   "source": [
    "Добавим в наш веб-сайт страниц. Возвращать можно и HTML \\[что это???\\]:"
   ]
  },
  {
   "cell_type": "code",
   "execution_count": null,
   "id": "10f3b278",
   "metadata": {},
   "outputs": [],
   "source": [
    "@app.route(\"/htmlpage\")            # по пути /htmlpage вызывать функцию get_html\n",
    "def get_html():\n",
    "    return \"<a href=\\\"https://flask.palletsprojects.com/en/3.0.x/\\\"><img src=\\\"/static/rest.webp\\\" /></a>\""
   ]
  },
  {
   "cell_type": "markdown",
   "id": "cbc6a465",
   "metadata": {},
   "source": [
    "Она доступна по адресу http://127.0.0.1:5000/htmlpage.\n",
    "\n",
    "Тут начинает играть роль то самое `__name__`, которое мы передали во `Flask`: flask автоматически распознаёт файлы, лежащие в папке static, в частности &ndash; нашу картинку.\n",
    "\n",
    "Давайте загрузим файл с сервера."
   ]
  },
  {
   "cell_type": "code",
   "execution_count": null,
   "id": "f9f5aacc",
   "metadata": {},
   "outputs": [],
   "source": [
    "from flask import send_from_directory\n",
    "\n",
    "@app.route(\"/file\")\n",
    "def get_file():\n",
    "    return send_from_directory(\"./static\", \"rest.webp\", as_attachment=True)"
   ]
  },
  {
   "cell_type": "markdown",
   "id": "6196b786",
   "metadata": {},
   "source": [
    "Но как справедливо указано на картинке REST API на то и API, что возвращает не HTML, понятный человеку, а json, понятный программам (в особенности javascriptу, ибо JSON ~ JavaScriptObjectNotation)."
   ]
  },
  {
   "cell_type": "code",
   "execution_count": null,
   "id": "2539a00f",
   "metadata": {},
   "outputs": [],
   "source": [
    "import json\n",
    "\n",
    "@app.route(\"/api\")\n",
    "def api_hello():\n",
    "    result = {\"status\": 200, \"msg\": \"This is API page\"}\n",
    "    return json.dumps(result)"
   ]
  },
  {
   "cell_type": "markdown",
   "id": "f4403d2e",
   "metadata": {},
   "source": [
    "Итого мы передали словарь! Кстати, получать данные из json тоже можно:"
   ]
  },
  {
   "cell_type": "code",
   "execution_count": null,
   "id": "f575724a",
   "metadata": {},
   "outputs": [],
   "source": [
    "print(json.loads('{\"hello\": \"world\", \"life\": \"is great\"}'))"
   ]
  },
  {
   "cell_type": "markdown",
   "id": "924a570a",
   "metadata": {},
   "source": [
    "Давайте теперь реализуем api, складывающее два числа."
   ]
  },
  {
   "cell_type": "code",
   "execution_count": null,
   "id": "8dcf3b2f",
   "metadata": {},
   "outputs": [],
   "source": [
    "@app.route(\"/api/sum/<num1>/<int:num2>\")  # в \"<>\" заключены параметры, их имена должны совпадать с именами\n",
    "def api_sum(num1, num2):                  #                                                     аргументов функции\n",
    "    result = {\"status\": 200, \"data\": int(num1)+num2}\n",
    "    return json.dumps(result)"
   ]
  },
  {
   "cell_type": "markdown",
   "id": "d2a2d894",
   "metadata": {},
   "source": [
    "Заметьте, у ссылочных аргументов можно передавать тип, в таком случае, если тип не соответствует ожидаемому api выдаст 404 error (page not found). Проверить это нам поможет команда `curl` в bash, которая запрашивает сайт и возвращает содержимое. Её стоит ввести в wsl."
   ]
  },
  {
   "cell_type": "markdown",
   "id": "003cbbdb",
   "metadata": {},
   "source": [
    "Для удобства, запустим сервер в фоновом режиме:"
   ]
  },
  {
   "cell_type": "code",
   "execution_count": null,
   "id": "f0c3a52e",
   "metadata": {},
   "outputs": [],
   "source": [
    "import threading\n",
    "\n",
    "thread = threading.Thread(name='server', target=lambda: app.run(host=\"0.0.0.0\", port=5000))  \n",
    "# создаёт процесс, но о них когда-нибудь в другой раз\n",
    "thread.setDaemon(True)\n",
    "thread.start()"
   ]
  },
  {
   "cell_type": "markdown",
   "id": "abe447a7",
   "metadata": {},
   "source": [
    "**Чтобы остановить сервер прийдётся перезагружать kernel.**"
   ]
  },
  {
   "cell_type": "code",
   "execution_count": null,
   "id": "58d72c94",
   "metadata": {
    "scrolled": true
   },
   "outputs": [],
   "source": [
    "%%bash\n",
    "\n",
    "curl -s http://$(hostname).local:5000/api/sum/1/2    # теперь доменное имя -- hostname компьютера\n",
    "                                                     # флаг -s позволяет не выводить излишнюю информацию\n",
    "\n",
    "echo -e \"\\n_________________________________________________________\"\n",
    "\n",
    "curl -s http://$(hostname).local:5000/api/sum/1/abc  # кстати, есть ещё флаг -k, который позволяет подключаться к\n",
    "                                                     # небезопасным https сайтам с самоподписанным сертификатом"
   ]
  },
  {
   "cell_type": "markdown",
   "id": "bd8ba48e",
   "metadata": {},
   "source": [
    "Другой способ передачи данных &ndash; query параметры."
   ]
  },
  {
   "cell_type": "code",
   "execution_count": null,
   "id": "b82f3b4f",
   "metadata": {},
   "outputs": [],
   "source": [
    "from flask import request\n",
    "\n",
    "@app.route(\"/api/sum\")\n",
    "def api_sum_query():\n",
    "    num1 = request.args.get('num1')\n",
    "    num2 = request.args.get('num2')\n",
    "    result = {\"status\": 200, \"data\": int(num1)+int(num2)}\n",
    "    return json.dumps(result)"
   ]
  },
  {
   "cell_type": "code",
   "execution_count": null,
   "id": "837fa804",
   "metadata": {},
   "outputs": [],
   "source": [
    "%%bash\n",
    "\n",
    "curl -s http://$(hostname).local:5000/api/sum?num1=1&num2=2"
   ]
  },
  {
   "cell_type": "markdown",
   "id": "295a47f0",
   "metadata": {},
   "source": [
    "Как мы помним, имеется несколько методов для http запроса и вот как их обрабатывать:"
   ]
  },
  {
   "cell_type": "code",
   "execution_count": null,
   "id": "9c1b28e0",
   "metadata": {},
   "outputs": [],
   "source": [
    "app.config['BANANAS'] = dict()                      # глобальная переменная, доступная внутри функций\n",
    "\n",
    "@app.route(\"/api/banana\", methods=['GET', 'POST'])  # разрешённые методы\n",
    "def api_bananas():\n",
    "    result = {\"status\": 400, \"data\": \"smth gone wrong\"}\n",
    "    if request.method == 'POST':                    # создадим банан\n",
    "        rdata = request.get_json(force=True)\n",
    "        if \"name\" in rdata.keys() and \"size\" in rdata.keys():\n",
    "            banana_name = rdata[\"name\"]             # как мы знаем, post method позволяет прикреплять json файл\n",
    "            banana_size = rdata[\"size\"]             # к телу запроса и вот как вытащить из него данные\n",
    "            app.config['BANANAS'][banana_name] = banana_size\n",
    "            result = {\"status\": 200, \"data\": \"created\"}\n",
    "        else:\n",
    "            result = {\"status\": 400, \"data\": \"not enough fields\"}\n",
    "    elif request.method == 'GET':\n",
    "        result = {\"status\": 200, \"data\": app.config['BANANAS']}\n",
    "    return json.dumps(result)"
   ]
  },
  {
   "cell_type": "code",
   "execution_count": null,
   "id": "2f28f12e",
   "metadata": {},
   "outputs": [],
   "source": [
    "%%bash\n",
    "\n",
    "curl -s -X POST http://$(hostname).local:5000/api/banana -d '{\"name\": \"ABanan\",\"size\": 15}'  # прикрепляет json\n",
    "echo -e \"\\n_________________________________________________________\"                        # документ к запросу\n",
    "curl -s -X POST http://$(hostname).local:5000/api/banana -d '{\"name\": \"BBanan\", \"size\": 14}'\n",
    "echo -e \"\\n_________________________________________________________\"\n",
    "curl -s http://$(hostname).local:5000/api/banana"
   ]
  },
  {
   "cell_type": "markdown",
   "id": "95ff6515",
   "metadata": {},
   "source": [
    "И загрузим файл, для разнообразия."
   ]
  },
  {
   "cell_type": "code",
   "execution_count": null,
   "id": "70f91bf1",
   "metadata": {},
   "outputs": [],
   "source": [
    "from werkzeug.utils import secure_filename\n",
    "\n",
    "app.config['UPLOAD_FOLDER'] = os.getcwd()\n",
    "\n",
    "@app.route(\"/api/file/<name>\", methods=['POST'])\n",
    "def api_upload_file(name):\n",
    "    result = {\"status\": 400, \"data\": \"smth gone wrong\"}\n",
    "    if request.method == 'POST':\n",
    "        if 'file' not in request.files:\n",
    "            result = {\"status\": 400, \"data\": \"no file attached\"}\n",
    "        file = request.files['file']\n",
    "        if file.filename == '':\n",
    "            result = {\"status\": 400, \"data\": \"no file attached\"}\n",
    "        if file:\n",
    "            filename = secure_filename(name)\n",
    "            file.save(os.path.join(app.config['UPLOAD_FOLDER'], filename))\n",
    "            result = {\"status\": 200, \"data\": \"created\"}\n",
    "    return json.dumps(result)"
   ]
  },
  {
   "cell_type": "code",
   "execution_count": null,
   "id": "4122f603",
   "metadata": {
    "scrolled": true
   },
   "outputs": [],
   "source": [
    "%%bash\n",
    "\n",
    "curl -s -X POST http://$(hostname).local:5000/api/file/my_image.webp -H \"Content-Type: multipart/form-data\"  -F \"file=@static/rest.webp\""
   ]
  }
 ],
 "metadata": {
  "kernelspec": {
   "display_name": "Python 3 (ipykernel)",
   "language": "python",
   "name": "python3"
  },
  "language_info": {
   "codemirror_mode": {
    "name": "ipython",
    "version": 3
   },
   "file_extension": ".py",
   "mimetype": "text/x-python",
   "name": "python",
   "nbconvert_exporter": "python",
   "pygments_lexer": "ipython3",
   "version": "3.7.9"
  }
 },
 "nbformat": 4,
 "nbformat_minor": 5
}
